{
 "cells": [
  {
   "cell_type": "code",
   "execution_count": 1,
   "id": "daf92354-abe0-4808-966b-b7a84dbff0b0",
   "metadata": {},
   "outputs": [],
   "source": [
    "!python3 -m grpc_tools.protoc -I /opt/proto --python_out=. --pyi_out=. --grpc_python_out=. /opt/proto/game.proto"
   ]
  },
  {
   "cell_type": "code",
   "execution_count": 2,
   "id": "333ad602-1e1f-4e7a-81c1-1551d12d232a",
   "metadata": {},
   "outputs": [
    {
     "name": "stdout",
     "output_type": "stream",
     "text": [
      "Requirement already satisfied: numpy==1.23.5 in /usr/local/lib64/python3.11/site-packages (1.23.5)\n",
      "\u001b[33mWARNING: Running pip as the 'root' user can result in broken permissions and conflicting behaviour with the system package manager. It is recommended to use a virtual environment instead: https://pip.pypa.io/warnings/venv\u001b[0m\u001b[33m\n",
      "\u001b[0mRequirement already satisfied: pygad in /usr/local/lib/python3.11/site-packages (2.18.1)\n",
      "Requirement already satisfied: matplotlib in /usr/local/lib64/python3.11/site-packages (from pygad) (3.6.2)\n",
      "Requirement already satisfied: numpy in /usr/local/lib64/python3.11/site-packages (from pygad) (1.23.5)\n",
      "Requirement already satisfied: contourpy>=1.0.1 in /usr/local/lib64/python3.11/site-packages (from matplotlib->pygad) (1.0.6)\n",
      "Requirement already satisfied: cycler>=0.10 in /usr/local/lib/python3.11/site-packages (from matplotlib->pygad) (0.11.0)\n",
      "Requirement already satisfied: fonttools>=4.22.0 in /usr/local/lib/python3.11/site-packages (from matplotlib->pygad) (4.38.0)\n",
      "Requirement already satisfied: kiwisolver>=1.0.1 in /usr/local/lib64/python3.11/site-packages (from matplotlib->pygad) (1.4.4)\n",
      "Requirement already satisfied: packaging>=20.0 in /usr/local/lib/python3.11/site-packages (from matplotlib->pygad) (22.0)\n",
      "Requirement already satisfied: pillow>=6.2.0 in /usr/local/lib64/python3.11/site-packages (from matplotlib->pygad) (9.4.0)\n",
      "Requirement already satisfied: pyparsing>=2.2.1 in /usr/local/lib/python3.11/site-packages (from matplotlib->pygad) (3.0.9)\n",
      "Requirement already satisfied: python-dateutil>=2.7 in /usr/local/lib/python3.11/site-packages (from matplotlib->pygad) (2.8.2)\n",
      "Requirement already satisfied: six>=1.5 in /usr/local/lib/python3.11/site-packages (from python-dateutil>=2.7->matplotlib->pygad) (1.16.0)\n",
      "\u001b[33mWARNING: Running pip as the 'root' user can result in broken permissions and conflicting behaviour with the system package manager. It is recommended to use a virtual environment instead: https://pip.pypa.io/warnings/venv\u001b[0m\u001b[33m\n",
      "\u001b[0m"
     ]
    }
   ],
   "source": [
    "!python3 -m pip install numpy==1.23.5\n",
    "!python3 -m pip install pygad\n"
   ]
  },
  {
   "cell_type": "code",
   "execution_count": 3,
   "id": "9cf5bbbb-d7ba-4f8e-9083-6e795dacd88a",
   "metadata": {},
   "outputs": [],
   "source": [
    "import game_pb2_grpc\n",
    "import game_pb2\n",
    "import grpc\n",
    "from subprocess import Popen, PIPE\n",
    "import time\n",
    "import traceback"
   ]
  },
  {
   "cell_type": "code",
   "execution_count": 4,
   "id": "3d1527e6-9386-4f0f-b194-3c2d5fd08182",
   "metadata": {},
   "outputs": [],
   "source": [
    "def start_server(port, seed, filename):\n",
    "    p = Popen(['xvfb-run', '--server-num' , str(port), r'./artifical_bike_racing', '--port', str(port), '--seed', str(seed), '--headless', '--save', f'/opt/clients/{filename}.json' ], stdout=PIPE, cwd=r'/opt/')\n",
    "    broken = True\n",
    "    while broken:\n",
    "        try:\n",
    "            channel = grpc.insecure_channel(f'localhost:{port}')\n",
    "            stub = game_pb2_grpc.MainServiceStub(channel)\n",
    "            stub.health(game_pb2.Empty())\n",
    "            broken = False\n",
    "        except:\n",
    "            pass\n",
    "        \n",
    "    return stub, p.stdout"
   ]
  },
  {
   "cell_type": "code",
   "execution_count": 5,
   "id": "48efca46-0d72-4075-8a5b-0d4de2703e01",
   "metadata": {},
   "outputs": [],
   "source": [
    "def kill_server(stub):\n",
    "    stub.kill(game_pb2.Empty())\n",
    "    try:\n",
    "        stub.input(game_pb2.InputRequest(x = 0.0, z = 1.0))\n",
    "        stub.getState(game_pb2.Empty())\n",
    "        broken = True\n",
    "        while broken:\n",
    "            try:\n",
    "                stub.health(game_pb2.Empty())\n",
    "            except:\n",
    "                broken = False\n",
    "    except:\n",
    "        pass"
   ]
  },
  {
   "cell_type": "code",
   "execution_count": 6,
   "id": "25e42446-9e49-4e85-8f7b-749e7f254a46",
   "metadata": {},
   "outputs": [],
   "source": [
    "def get_score(stub):\n",
    "    score = stub.getScore(game_pb2.Empty())\n",
    "    try:\n",
    "        stub.input(game_pb2.InputRequest(x = 0.0, z = 1.0))\n",
    "        stub.getState(game_pb2.Empty())\n",
    "        broken = True\n",
    "        while broken:\n",
    "            try:\n",
    "                stub.health(game_pb2.Empty())\n",
    "            except:\n",
    "                broken = False\n",
    "    except:\n",
    "        pass\n",
    "    return score"
   ]
  },
  {
   "cell_type": "code",
   "execution_count": 7,
   "id": "ebc713a9-dcb5-4bc6-b24c-5186fe0a147d",
   "metadata": {},
   "outputs": [],
   "source": [
    "import pygad\n",
    "import pygad.nn\n",
    "import pygad.gann\n",
    "import numpy as np"
   ]
  },
  {
   "cell_type": "code",
   "execution_count": 8,
   "id": "7c929118-21fc-454c-bf17-6d2ea0139e31",
   "metadata": {},
   "outputs": [],
   "source": [
    "# retrieve the terrain at a given offset from the player, x = 0, z = 0 returns the terrain below the player\n",
    "def terrain_at(terrain, x, z):\n",
    "    if x < -32 or x > 32 or z < -32 or z > 32:\n",
    "        return None\n",
    "    x = x + 32\n",
    "    z = z + 32\n",
    "    terrain[x + z * 65]"
   ]
  },
  {
   "cell_type": "code",
   "execution_count": 9,
   "id": "5c087c9a-e09d-4cc9-9ac9-315babab4765",
   "metadata": {},
   "outputs": [],
   "source": [
    "# runs the game for {steps} frames for {seed}\n",
    "# it uses the neural network behind the last_layer parameter\n",
    "# the recording is stored under /opt/clients/{filename}.json and can be replayed as described in the readme\n",
    "def play_game(port, seed, filename, last_layer, steps):\n",
    "    stub, process = start_server(port, seed, filename)\n",
    "    stub.input(game_pb2.InputRequest(x = 0.0, z = 1.0))\n",
    "    state = stub.getState(game_pb2.Empty())\n",
    "    for _ in range(steps):\n",
    "        d = []\n",
    "        if state.finished:\n",
    "            return stub, state\n",
    "        if state.y < -50:\n",
    "            return stub, state\n",
    "        d.append(state.x)\n",
    "        d.append(state.y)\n",
    "        d.append(state.z)\n",
    "        d.append(state.distance)\n",
    "\n",
    "        data_inputs = np.array([d])\n",
    "        predictions =  pygad.nn.predict(last_layer=last_layer,\n",
    "                                   data_inputs=data_inputs,  problem_type=\"regression\")\n",
    "        stub.input(game_pb2.InputRequest(x = predictions[0][0], z = predictions[0][1]))\n",
    "        state = stub.getState(game_pb2.Empty())\n",
    "    return stub, state"
   ]
  },
  {
   "cell_type": "code",
   "execution_count": 10,
   "id": "3a08af5b-d7c0-4bc9-94c6-a5e0d8b21cd0",
   "metadata": {},
   "outputs": [],
   "source": [
    "def fitness_func(solution, sol_idx):\n",
    "    global GANN_instance\n",
    "    if sol_idx is None:\n",
    "        print(\"no index\")\n",
    "        return 0.0\n",
    "    try:\n",
    "        stub, state = play_game(50051 + sol_idx, 2, sol_idx, GANN_instance.population_networks[sol_idx], 1000)\n",
    "        score = get_score(stub)\n",
    "        del stub\n",
    "        s = (float(len(score.timings)) + 1.0 / state.distance +(1000 - score.timings[-1])/2000.0)\n",
    "        return s\n",
    "    except Exception as e:\n",
    "        print(\"--------------------\")\n",
    "        print(e)\n",
    "        raise e\n",
    "        "
   ]
  },
  {
   "cell_type": "code",
   "execution_count": 11,
   "id": "3519b16e-0b14-4672-b080-3e0cb35101a1",
   "metadata": {},
   "outputs": [],
   "source": [
    "def callback_generation(ga_instance):\n",
    "    global GANN_instance, last_fitness\n",
    "    population_matrices = pygad.gann.population_as_matrices(population_networks=GANN_instance.population_networks,\n",
    "                                                            population_vectors=ga_instance.population)\n",
    "\n",
    "    GANN_instance.update_population_trained_weights(population_trained_weights=population_matrices)\n",
    "\n",
    "    print(\"Generation = {generation}\".format(generation=ga_instance.generations_completed))\n",
    "    print(\"Fitness    = {fitness}\".format(fitness=ga_instance.best_solution()[1]))\n",
    "    print(\"Change     = {change}\".format(change=ga_instance.best_solution()[1] - last_fitness))\n",
    "\n",
    "    last_fitness = ga_instance.best_solution()[1].copy()"
   ]
  },
  {
   "cell_type": "code",
   "execution_count": 12,
   "id": "838a8493-d0c3-4699-8b96-463eca005894",
   "metadata": {},
   "outputs": [
    {
     "name": "stdout",
     "output_type": "stream",
     "text": [
      "Generation = 1\n",
      "Fitness    = 1.5595393245214886\n",
      "Change     = 1.5595393245214886\n",
      "Generation = 2\n",
      "Fitness    = 1.5115405912679216\n",
      "Change     = -0.04799873325356696\n",
      "Generation = 3\n",
      "Fitness    = 1.5595393245214886\n",
      "Change     = 0.04799873325356696\n",
      "Generation = 4\n",
      "Fitness    = 1.5595393245214886\n",
      "Change     = 0.0\n",
      "Generation = 5\n",
      "Fitness    = 1.5595393245214886\n",
      "Change     = 0.0\n"
     ]
    }
   ],
   "source": [
    "GANN_instance = pygad.gann.GANN(num_solutions=2,\n",
    "                                num_neurons_input=4,\n",
    "                                num_neurons_hidden_layers=[10],\n",
    "                                num_neurons_output=2,\n",
    "                                hidden_activations=[\"relu\"],\n",
    "                                output_activation=\"None\")\n",
    "last_fitness = 0\n",
    "parent_selection_type = \"rank\"\n",
    "\n",
    "crossover_type = \"Single_point\"\n",
    "\n",
    "mutation_type = \"random\" \n",
    "\n",
    "keep_parents = 1\n",
    "\n",
    "init_range_low = -10\n",
    "init_range_high = 10\n",
    "ga_instance = pygad.GA(num_generations=5, \n",
    "                       num_parents_mating=2, \n",
    "                       initial_population= pygad.gann.population_as_vectors(population_networks=GANN_instance.population_networks),\n",
    "                       fitness_func=fitness_func,\n",
    "                       mutation_percent_genes=20,\n",
    "                       parent_selection_type=parent_selection_type,\n",
    "                       crossover_type=crossover_type,\n",
    "                       mutation_type=mutation_type,\n",
    "                       keep_parents=keep_parents,\n",
    "                       on_generation=callback_generation,\n",
    "                       parallel_processing=['process', 4])\n",
    "ga_instance.run()\n"
   ]
  },
  {
   "cell_type": "code",
   "execution_count": 13,
   "id": "e272aa46-9d65-48a8-b7e2-f576508a05e9",
   "metadata": {},
   "outputs": [
    {
     "data": {
      "image/png": "[encoded data removed]",
      "text/plain": [
       "<Figure size 640x480 with 1 Axes>"
      ]
     },
     "metadata": {},
     "output_type": "display_data"
    },
    {
     "data": {
      "image/png": "[encoded data removed]",
      "text/plain": [
       "<Figure size 640x480 with 1 Axes>"
      ]
     },
     "execution_count": 13,
     "metadata": {},
     "output_type": "execute_result"
    }
   ],
   "source": [
    "ga_instance.plot_fitness()"
   ]
  },
  {
   "cell_type": "code",
   "execution_count": 14,
   "id": "7138bb6c-fbc9-4946-b721-17d3b56b030f",
   "metadata": {},
   "outputs": [],
   "source": [
    "best_solution = ga_instance.best_solution()\n",
    "stub, state = play_game(50051, 2, 'best', GANN_instance.population_networks[best_solution[2]], 10000 )"
   ]
  },
  {
   "cell_type": "code",
   "execution_count": null,
   "id": "9bab9d39-d969-46f8-ac20-719aa63982a7",
   "metadata": {},
   "outputs": [],
   "source": []
  },
  {
   "cell_type": "code",
   "execution_count": null,
   "id": "acf20a5c-00a2-4aab-9ac7-bfbe82909289",
   "metadata": {},
   "outputs": [],
   "source": []
  }
 ],
 "metadata": {
  "kernelspec": {
   "display_name": "Python 3 (ipykernel)",
   "language": "python",
   "name": "python3"
  },
  "language_info": {
   "codemirror_mode": {
    "name": "ipython",
    "version": 3
   },
   "file_extension": ".py",
   "mimetype": "text/x-python",
   "name": "python",
   "nbconvert_exporter": "python",
   "pygments_lexer": "ipython3",
   "version": "3.11.0"
  }
 },
 "nbformat": 4,
 "nbformat_minor": 5
}
