{
 "cells": [
  {
   "cell_type": "code",
   "execution_count": 1,
   "id": "daf92354-abe0-4808-966b-b7a84dbff0b0",
   "metadata": {},
   "outputs": [],
   "source": [
    "!python3 -m grpc_tools.protoc -I /opt/proto --python_out=. --pyi_out=. --grpc_python_out=. /opt/proto/game.proto"
   ]
  },
  {
   "cell_type": "code",
   "execution_count": 3,
   "id": "9cf5bbbb-d7ba-4f8e-9083-6e795dacd88a",
   "metadata": {},
   "outputs": [],
   "source": [
    "import game_pb2_grpc\n",
    "import game_pb2\n",
    "import grpc\n",
    "from subprocess import Popen, PIPE\n",
    "import time\n",
    "import traceback"
   ]
  },
  {
   "cell_type": "code",
   "execution_count": 4,
   "id": "3d1527e6-9386-4f0f-b194-3c2d5fd08182",
   "metadata": {},
   "outputs": [],
   "source": [
    "def start_server(port, seed):\n",
    "    p = Popen(['xvfb-run', '--server-num' , str(port), r'./artifical_bike_racing', '--port', str(port), '--seed', str(seed), '--headless', '--save', f'/opt/clients/{port}.json' ], stdout=PIPE, cwd=r'/opt/')\n",
    "    broken = True\n",
    "    while broken:\n",
    "        try:\n",
    "            channel = grpc.insecure_channel(f'localhost:{port}')\n",
    "            stub = game_pb2_grpc.MainServiceStub(channel)\n",
    "            stub.health(game_pb2.Empty())\n",
    "            broken = False\n",
    "        except:\n",
    "            pass\n",
    "        \n",
    "    return stub, p.stdout"
   ]
  },
  {
   "cell_type": "code",
   "execution_count": 5,
   "id": "48efca46-0d72-4075-8a5b-0d4de2703e01",
   "metadata": {},
   "outputs": [],
   "source": [
    "def kill_server(stub):\n",
    "    stub.kill(game_pb2.Empty())\n",
    "    try:\n",
    "        stub.input(game_pb2.InputRequest(x = 0.0, z = 1.0))\n",
    "        stub.getState(game_pb2.Empty())\n",
    "        broken = True\n",
    "        while broken:\n",
    "            try:\n",
    "                stub.health(game_pb2.Empty())\n",
    "            except:\n",
    "                broken = False\n",
    "    except:\n",
    "        pass"
   ]
  },
  {
   "cell_type": "code",
   "execution_count": 6,
   "id": "25e42446-9e49-4e85-8f7b-749e7f254a46",
   "metadata": {},
   "outputs": [],
   "source": [
    "def get_score(stub):\n",
    "    score = stub.getScore(game_pb2.Empty())\n",
    "    try:\n",
    "        stub.input(game_pb2.InputRequest(x = 0.0, z = 1.0))\n",
    "        stub.getState(game_pb2.Empty())\n",
    "        broken = True\n",
    "        while broken:\n",
    "            try:\n",
    "                stub.health(game_pb2.Empty())\n",
    "            except:\n",
    "                broken = False\n",
    "    except:\n",
    "        pass\n",
    "    return score"
   ]
  }
 ],
 "metadata": {
  "kernelspec": {
   "display_name": "Python 3 (ipykernel)",
   "language": "python",
   "name": "python3"
  },
  "language_info": {
   "codemirror_mode": {
    "name": "ipython",
    "version": 3
   },
   "file_extension": ".py",
   "mimetype": "text/x-python",
   "name": "python",
   "nbconvert_exporter": "python",
   "pygments_lexer": "ipython3",
   "version": "3.11.0"
  }
 },
 "nbformat": 4,
 "nbformat_minor": 5
}
